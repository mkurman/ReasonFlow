{
 "cells": [
  {
   "cell_type": "code",
   "execution_count": 1,
   "metadata": {},
   "outputs": [],
   "source": [
    "import sys\n",
    "\n",
    "sys.path.append('..')\n",
    "\n",
    "\n",
    "import os\n",
    "\n",
    "import torch\n",
    "\n",
    "from transformers import AutoModelForCausalLM, AutoTokenizer\n",
    "from reasonflow import ReasonFlowConfig, ReasonFlow"
   ]
  },
  {
   "cell_type": "markdown",
   "metadata": {},
   "source": [
    "## Load model and tokenizer"
   ]
  },
  {
   "cell_type": "code",
   "execution_count": 2,
   "metadata": {},
   "outputs": [
    {
     "data": {
      "application/vnd.jupyter.widget-view+json": {
       "model_id": "332e5ee14bb845c28853cdd358bb03e6",
       "version_major": 2,
       "version_minor": 0
      },
      "text/plain": [
       "Loading checkpoint shards:   0%|          | 0/5 [00:00<?, ?it/s]"
      ]
     },
     "metadata": {},
     "output_type": "display_data"
    }
   ],
   "source": [
    "path = 'mkurman/phi4-MedIT-10B-o1'\n",
    "hf_cache = os.environ.get('HF_HOME', os.path.expanduser('~/hf_cache'))\n",
    "\n",
    "model = AutoModelForCausalLM.from_pretrained(\n",
    "    path,\n",
    "    cache_dir=hf_cache,\n",
    "    torch_dtype=torch.bfloat16,\n",
    ")\n",
    "\n",
    "tokenizer = AutoTokenizer.from_pretrained(\n",
    "    path,\n",
    "    cache_dir=hf_cache,\n",
    ")"
   ]
  },
  {
   "cell_type": "code",
   "execution_count": 3,
   "metadata": {},
   "outputs": [],
   "source": [
    "if isinstance(model.config.eos_token_id, int):\n",
    "    model.config.eos_token_id = [model.config.eos_token_id]\n",
    "\n",
    "def has_eos(output, eos_token: list[int]):\n",
    "    return any(x for x in eos_token if x in output)    "
   ]
  },
  {
   "cell_type": "markdown",
   "metadata": {},
   "source": [
    "## Create input prompt"
   ]
  },
  {
   "cell_type": "code",
   "execution_count": 4,
   "metadata": {},
   "outputs": [],
   "source": [
    "chat_like_texts = [\n",
    "    [\n",
    "        {\n",
    "            \"role\": \"user\",\n",
    "            \"content\": f\"What is the strength (B1) of a 13C 90° pulse of duration 1 μs?\",\n",
    "        },\n",
    "    ],\n",
    "    [\n",
    "        {\n",
    "            \"role\": \"user\",\n",
    "            \"content\": 'What is the maximum value of the z-component of the spin angular momentum of 43Ca? [I = 7⁄2] [ \"10.492 x 10^-34 J s\", \"2.549 x 10^-34 J s\", \"5.493 x 10^-34 J s\", \"4.185 x 10^-34 J s\", \"1.238 x 10^-34 J s\", \"8.370 x 10^-34 J s\", \"6.234 x 10^-34 J s\", \"9.854 x 10^-34 J s\", \"3.691 x 10^-34 J s\", \"7.123 x 10^-34 J s\" ]',\n",
    "        },\n",
    "    ],\n",
    "]\n",
    "\n",
    "input_ids = tokenizer(tokenizer.apply_chat_template(chat_like_texts[1], tokenize=False, add_generation_prompt=True), padding=True, truncation=True, return_tensors=\"pt\")"
   ]
  },
  {
   "cell_type": "markdown",
   "metadata": {},
   "source": [
    "## Configure MCTS"
   ]
  },
  {
   "cell_type": "code",
   "execution_count": 5,
   "metadata": {},
   "outputs": [],
   "source": [
    "NUM_OF_THOUGHTS = 4 # Maximum number of thoughts to validate\n",
    "NUM_OF_THINKERS = 6 # Maximum number of thinkers to reason with\n",
    "TOPK_THINKERS = 2 # Maximum number of thinkers to consider\n",
    "ACCEPTANCE_THRESHOLD = 0.5 # Decision threshold for accepting a token with lower probability than the most probable token\n",
    "TEMPERATURES = [0.7, 1.3] # Temperature values for sampling less probable tokens\n",
    "\n",
    "MAX_TOTAL_TOKENS = 8192 # Maximum number of tokens to generate in total"
   ]
  },
  {
   "cell_type": "markdown",
   "metadata": {},
   "source": [
    "## Run the ReasonFlow algorithm"
   ]
  },
  {
   "cell_type": "code",
   "execution_count": 8,
   "metadata": {},
   "outputs": [
    {
     "name": "stderr",
     "output_type": "stream",
     "text": [
      "Setting `pad_token_id` to `eos_token_id`:None for open-end generation.\n"
     ]
    },
    {
     "name": "stdout",
     "output_type": "stream",
     "text": [
      "<|im_start|>user<|im_sep|>What is the maximum value of the z-component of the spin angular momentum of 43Ca? [I = 7⁄2] [ \"10.492 x 10^-34 J s\", \"2.549 x 10^-34 J s\", \"5.493 x 10^-34 J s\", \"4.185 x 10^-34 J s\", \"1.238 x 10^-34 J s\", \"8.370 x 10^-34 J s\", \"6.234 x 10^-34 J s\", \"9.854 x 10^-34 J s\", \"3.691 x 10^-34 J s\", \"7.123 x 10^-34 J s\" ]<|im_end|><|im_start|>assistant<|im_sep|><Thought>\n",
      "Alright, I need to determine the maximum value of the z-component of the spin angular momentum for the isotope 43Ca, which has a spin quantum number \\( I = \\frac{7}{2} \\). The formula for the maximum value of the z-component of the spin angular momentum is given by:\n",
      "\n",
      "\\[ m_z = m \\hbar \\]\n",
      "\n",
      "where:\n",
      "- \\( m \\) is the quantum number,\n",
      "- \\( \\hbar \\) is the reduced Planck's constant, approximately \\( 1.0545718 \\times 10^{-34} \\, \\text{J} \\cdot \\text{s} \\).\n",
      "\n",
      "Given \\( m = \\frac{7}{2} \\), I can calculate:\n",
      "\n",
      "\\[ m_z = \\frac{7}{2} \\times 1.0545718 \\times 10^{-34} \\, \\text{J} \\cdot \\text{s} \\]\n",
      "\n",
      "Let's perform the multiplication:\n",
      "\n",
      "\\[ m_z = 3.5 \\times 1.0545718 \\times 10^{-34} \\, \\text{J} \\cdot \\text{s} \\]\n",
      "\n",
      "\\[ m_z = 3.641 \\times 10^{-34} \\, \\text{J} \\cdot \\text{s} \\]\n",
      "\n",
      "Now, I need to round this value to match the provided options. The options are in the form of \\( x \\times 10^{-34} \\, \\text{J} \\cdot \\text{s} \\), so I'll round \\( 3.641 \\) to the nearest decimal place that matches the options.\n",
      "\n",
      "Looking at the options:\n",
      "- \"10.492 x 10^-34 J s\"\n",
      "- \"2.549 x 10^-34 J s\"\n",
      "- \"5.493 x 10^-34 J s\"\n",
      "- \"2.549 x 10^-34 J s\"\n",
      "- \"5.493 x 10^-34 J s\"\n",
      "- \"4.185 x 10^-34 J s\"\n",
      "- \"1.238 x 10^-34 J s\"\n",
      "- \"6.234 x 10^-34 J s\"\n",
      "- \"3.691 x 10^-34 J s\"\n",
      "- \"7.123 x 10^-34 J s\"\n",
      "\n",
      "The closest value to \\( 3.641 \\times 10^{-34} \\, \\text{J} \\cdot \\text{s} \\) is \\( 3.691 \\times 10^{-34} \\, \\text{J} \\cdot \\text{s} \\).\n",
      "\n",
      "Therefore, the maximum value of the z-component of the spin angular momentum for 43Ca is approximately \\( 3.691 \\times 10^{-34} \\, \\text{J} \\cdot \\text{s} \\).\n",
      "</Thought>\n",
      "\n",
      "<Output>\n",
      "3.691 x 10^-34 J s\n",
      "</Output><|im_end|>"
     ]
    }
   ],
   "source": [
    "model.to(\"cuda\")\n",
    "input_tokens = input_ids['input_ids'].to('cuda') \n",
    "\n",
    "model.eval()\n",
    "\n",
    "config = ReasonFlowConfig(\n",
    "    num_of_thinkers=NUM_OF_THINKERS,\n",
    "    num_of_thoughts=NUM_OF_THOUGHTS,\n",
    "    topk_thinkers=TOPK_THINKERS,\n",
    "    acceptance_threshold=ACCEPTANCE_THRESHOLD,\n",
    "    temperatures=TEMPERATURES,\n",
    ")\n",
    "\n",
    "index = 1\n",
    "\n",
    "reason_flow = ReasonFlow(config, model, tokenizer)\n",
    "output = reason_flow.generate_thoughts(chat_like_texts[index], \n",
    "                                       max_new_tokens=4096, \n",
    "                                       stream=True,\n",
    "                                       device='cuda', \n",
    "                                       torch_dtype='bfloat16',\n",
    "                                       do_sample=False, \n",
    "                                       temperature=None, \n",
    "                                       top_p=None, \n",
    "                                       top_k=None, \n",
    "                                       repetition_penalty=None)"
   ]
  },
  {
   "cell_type": "code",
   "execution_count": null,
   "metadata": {},
   "outputs": [],
   "source": []
  }
 ],
 "metadata": {
  "kernelspec": {
   "display_name": "venv",
   "language": "python",
   "name": "python3"
  },
  "language_info": {
   "codemirror_mode": {
    "name": "ipython",
    "version": 3
   },
   "file_extension": ".py",
   "mimetype": "text/x-python",
   "name": "python",
   "nbconvert_exporter": "python",
   "pygments_lexer": "ipython3",
   "version": "3.12.3"
  }
 },
 "nbformat": 4,
 "nbformat_minor": 2
}
